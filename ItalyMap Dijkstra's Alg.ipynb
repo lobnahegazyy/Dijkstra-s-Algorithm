{
  "cells": [
    {
      "cell_type": "code",
      "source": [
        "import csv\n",
        "\n",
        "class Graph:\n",
        "    def __init__(self):\n",
        "        self.nodes = set()\n",
        "        self.edges = {}\n",
        "        self.distances = {}\n",
        "\n",
        "    def add_node(self, value):\n",
        "        self.nodes.add(value)\n",
        "\n",
        "    def add_edge(self, from_node, to_node, distance):\n",
        "        self.edges.setdefault(from_node, []).append(to_node)\n",
        "        self.edges.setdefault(to_node, []).append(from_node)\n",
        "        self.distances[(from_node, to_node)] = distance\n",
        "        self.distances[(to_node, from_node)] = distance\n",
        "\n",
        "class ItalyMap(Graph):\n",
        "    def __init__(self):\n",
        "        super().__init__()\n",
        "\n",
        "    def load_from_csv(self, filename):\n",
        "        with open(filename, 'r') as csvfile:\n",
        "            reader = csv.reader(csvfile)\n",
        "            next(reader)\n",
        "            for row in reader:\n",
        "                city1, city2, distance = row\n",
        "                distance = int(distance)\n",
        "                self.add_node(city1)\n",
        "                self.add_node(city2)\n",
        "                self.add_edge(city1, city2, distance)\n",
        "\n",
        "def dijkstra(graph, initial):\n",
        "    visited = {initial: 0}\n",
        "    path = {}\n",
        "\n",
        "    nodes = set(graph.nodes)\n",
        "\n",
        "\n",
        "    while nodes:\n",
        "        min_node = None\n",
        "        for node in nodes:\n",
        "            if node in visited:\n",
        "                if min_node is None:\n",
        "                    min_node = node\n",
        "                elif visited[node] < visited[min_node]:\n",
        "\n",
        "                    min_node = node\n",
        "\n",
        "        if min_node is None:\n",
        "            break\n",
        "        nodes.remove(min_node)\n",
        "        current_weight = visited[min_node]\n",
        "\n",
        "        for edge in graph.edges[min_node]:\n",
        "            weight = current_weight + graph.distances[(min_node, edge)]\n",
        "            if edge not in visited or weight < visited[edge]:\n",
        "                visited[edge] = weight\n",
        "                path[edge] = min_node\n",
        "\n",
        "    return visited, path\n",
        "\n",
        "def shortest_path(graph, start, end):\n",
        "    visited, paths = dijkstra(graph, start)\n",
        "    path = [].\n",
        "    while end:\n",
        "        path.append(end)\n",
        "        end = paths.get(end)\n",
        "    distance = visited[path[0]]\n",
        "    return distance, list(reversed(path))\n",
        "\n",
        "if __name__ == \"__main__\":\n",
        "    italy_map = ItalyMap()\n",
        "    italy_map.load_from_csv(\"CitiesCSV.csv\")\n",
        "\n",
        "    start_city = input(\"Enter the starting node: \")\n",
        "    end_city = input(\"Enter the ending node: \")\n",
        "    distance, path = shortest_path(italy_map, start_city, end_city)\n",
        "    print(f\"The shortest path from {start_city} to {end_city} is {path} with distance {distance} km.\")"
      ],
      "metadata": {
        "colab": {
          "base_uri": "https://localhost:8080/"
        },
        "id": "GuzRuMvbK4Jd",
        "outputId": "9030daa3-3afe-43ee-9c95-40b1a7934542"
      },
      "execution_count": null,
      "outputs": [
        {
          "output_type": "stream",
          "name": "stdout",
          "text": [
            "Enter the starting node: Rome\n",
            "Enter the ending node: Catania\n",
            "The shortest path from Rome to Catania is ['Rome', 'Perugia', 'Catania'] with distance 404 km.\n"
          ]
        }
      ]
    }
  ],
  "metadata": {
    "colab": {
      "provenance": []
    },
    "kernelspec": {
      "display_name": "Python 3",
      "name": "python3"
    }
  },
  "nbformat": 4,
  "nbformat_minor": 0
}